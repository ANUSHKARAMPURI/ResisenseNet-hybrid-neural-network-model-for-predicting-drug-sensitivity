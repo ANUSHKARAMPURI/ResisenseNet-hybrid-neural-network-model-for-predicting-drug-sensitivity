{
 "cells": [
  {
   "cell_type": "markdown",
   "id": "ea5dfb25-456f-4b52-916f-39d4b521134f",
   "metadata": {},
   "source": [
    "The following code leverages features extracted from various biological sources, including molecular structures, amino acid sequences, ligand molecular descriptor features, and expression profiles of transcription factors (TFs) and genomic markers. This comprehensive dataset is utilized for training the ResisenseNet model, which aims to predict drug sensitivity and resistance profiles."
   ]
  },
  {
   "cell_type": "code",
   "execution_count": null,
   "id": "61914846-32a8-4192-9fe9-0b6b4aaad47f",
   "metadata": {},
   "outputs": [],
   "source": [
    "please refer to the below link for the dataset i have utlised\n",
    "\n",
    "https://dorothea.opentargets.io/#/"
   ]
  },
  {
   "cell_type": "code",
   "execution_count": null,
   "id": "1d308f38-33f9-426e-9e87-fe8f479a0048",
   "metadata": {},
   "outputs": [],
   "source": []
  },
  {
   "cell_type": "code",
   "execution_count": null,
   "id": "a66d1999-b66d-49de-a2d5-ce0412aa9b21",
   "metadata": {},
   "outputs": [],
   "source": []
  },
  {
   "cell_type": "markdown",
   "id": "d99c316b-824d-46cc-9807-33be18c68114",
   "metadata": {},
   "source": [
    "Below program demonstrates a 1D-CNN + MLP based model without hyperparameter optimization for binary class classification"
   ]
  },
  {
   "cell_type": "code",
   "execution_count": 12,
   "id": "13c632de-0ef8-45c0-8706-2abb8c2f2314",
   "metadata": {
    "scrolled": true
   },
   "outputs": [
    {
     "name": "stdout",
     "output_type": "stream",
     "text": [
      "Epoch 1, Loss: 1.1615481227636337\n",
      "Epoch 2, Loss: 0.8140880763530731\n",
      "Epoch 3, Loss: 0.6996964886784554\n",
      "Epoch 4, Loss: 0.677908182144165\n",
      "Epoch 5, Loss: 0.6709074005484581\n",
      "Epoch 6, Loss: 0.6055079773068428\n",
      "Epoch 7, Loss: 0.5781704559922218\n",
      "Epoch 8, Loss: 0.5448079332709312\n",
      "Epoch 9, Loss: 0.5064694136381149\n",
      "Epoch 10, Loss: 0.4637419059872627\n",
      "Epoch 11, Loss: 0.44072772935032845\n",
      "Epoch 12, Loss: 0.40574174001812935\n",
      "Epoch 13, Loss: 0.40061788260936737\n",
      "Epoch 14, Loss: 0.3979511111974716\n",
      "Epoch 15, Loss: 0.38108543679118156\n",
      "Epoch 16, Loss: 0.3381016030907631\n",
      "Epoch 17, Loss: 0.3207923658192158\n",
      "Epoch 18, Loss: 0.3623073399066925\n",
      "Epoch 19, Loss: 0.36209145188331604\n",
      "Epoch 20, Loss: 0.31423184275627136\n",
      "Epoch 21, Loss: 0.31443721801042557\n",
      "Epoch 22, Loss: 0.31386252120137215\n",
      "Epoch 23, Loss: 0.29766346141695976\n",
      "Epoch 24, Loss: 0.26206780783832073\n",
      "Epoch 25, Loss: 0.2537679336965084\n",
      "Epoch 26, Loss: 0.24366099759936333\n",
      "Epoch 27, Loss: 0.254117613658309\n",
      "Epoch 28, Loss: 0.24188548140227795\n",
      "Epoch 29, Loss: 0.24467520602047443\n",
      "Epoch 30, Loss: 0.23179858550429344\n",
      "Epoch 31, Loss: 0.22757109440863132\n",
      "Epoch 32, Loss: 0.2160563487559557\n",
      "Epoch 33, Loss: 0.23138155415654182\n",
      "Epoch 34, Loss: 0.2292525228112936\n",
      "Epoch 35, Loss: 0.22331059537827969\n",
      "Epoch 36, Loss: 0.203735476359725\n",
      "Epoch 37, Loss: 0.2117761131376028\n",
      "Epoch 38, Loss: 0.23239093832671642\n",
      "Epoch 39, Loss: 0.22989573329687119\n",
      "Epoch 40, Loss: 0.18899057619273663\n",
      "Epoch 41, Loss: 0.18446676433086395\n",
      "Epoch 42, Loss: 0.17383040487766266\n",
      "Epoch 43, Loss: 0.17413188517093658\n",
      "Epoch 44, Loss: 0.16718206368386745\n",
      "Epoch 45, Loss: 0.17528095468878746\n",
      "Epoch 46, Loss: 0.16230344772338867\n",
      "Epoch 47, Loss: 0.1449280483648181\n",
      "Epoch 48, Loss: 0.15446537174284458\n",
      "Epoch 49, Loss: 0.15536702889949083\n",
      "Epoch 50, Loss: 0.15195638127624989\n",
      "Epoch 51, Loss: 0.1581707000732422\n",
      "Epoch 52, Loss: 0.16463041305541992\n",
      "Epoch 53, Loss: 0.1495139766484499\n",
      "Epoch 54, Loss: 0.1354389600455761\n",
      "Epoch 55, Loss: 0.1258343569934368\n",
      "Epoch 56, Loss: 0.11690464802086353\n",
      "Epoch 57, Loss: 0.11777088232338428\n",
      "Epoch 58, Loss: 0.11374749708920717\n",
      "Epoch 59, Loss: 0.10682106763124466\n",
      "Epoch 60, Loss: 0.10728663112968206\n",
      "Epoch 61, Loss: 0.10784590803086758\n",
      "Epoch 62, Loss: 0.10631069075316191\n",
      "Epoch 63, Loss: 0.12482279352843761\n",
      "Epoch 64, Loss: 0.10945318173617125\n",
      "Epoch 65, Loss: 0.10765074472874403\n",
      "Epoch 66, Loss: 0.1051792404614389\n",
      "Epoch 67, Loss: 0.0979925487190485\n",
      "Epoch 68, Loss: 0.09297551028430462\n",
      "Epoch 69, Loss: 0.0837599691003561\n",
      "Epoch 70, Loss: 0.08325074706226587\n",
      "Epoch 71, Loss: 0.07640411984175444\n",
      "Epoch 72, Loss: 0.0739680714905262\n",
      "Epoch 73, Loss: 0.07075227750465274\n",
      "Epoch 74, Loss: 0.07308456627652049\n",
      "Epoch 75, Loss: 0.07253190595656633\n",
      "Epoch 76, Loss: 0.07232797285541892\n",
      "Epoch 77, Loss: 0.08810948953032494\n",
      "Epoch 78, Loss: 0.07093855459243059\n",
      "Epoch 79, Loss: 0.06280414666980505\n",
      "Epoch 80, Loss: 0.057562326081097126\n",
      "Epoch 81, Loss: 0.06279584486037493\n",
      "Epoch 82, Loss: 0.052809222135692835\n",
      "Epoch 83, Loss: 0.05258742952719331\n",
      "Epoch 84, Loss: 0.05457600485533476\n",
      "Epoch 85, Loss: 0.04977485351264477\n",
      "Epoch 86, Loss: 0.049237938364967704\n",
      "Epoch 87, Loss: 0.05345901660621166\n",
      "Epoch 88, Loss: 0.04841144196689129\n",
      "Epoch 89, Loss: 0.05018427688628435\n",
      "Epoch 90, Loss: 0.04547210317105055\n",
      "Epoch 91, Loss: 0.04000936099328101\n",
      "Epoch 92, Loss: 0.03611278091557324\n",
      "Epoch 93, Loss: 0.03733198018744588\n",
      "Epoch 94, Loss: 0.03591345087625086\n",
      "Epoch 95, Loss: 0.036691779270768166\n",
      "Epoch 96, Loss: 0.037008238257840276\n",
      "Epoch 97, Loss: 0.031318968161940575\n",
      "Epoch 98, Loss: 0.030938055831938982\n",
      "Epoch 99, Loss: 0.03459511208347976\n",
      "Epoch 100, Loss: 0.03110681613907218\n",
      "Accuracy: 0.4550\n",
      "Precision: 0.4552\n",
      "Recall: 0.4550\n",
      "F1-Score: 0.4548\n",
      "Confusion Matrix:\n",
      "[[44 57]\n",
      " [52 47]]\n"
     ]
    }
   ],
   "source": [
    "import torch\n",
    "from torch import nn\n",
    "from torch.utils.data import DataLoader, TensorDataset\n",
    "from sklearn.model_selection import train_test_split\n",
    "from sklearn.metrics import accuracy_score, precision_recall_fscore_support, confusion_matrix\n",
    "import pandas as pd\n",
    "import numpy as np\n",
    "\n",
    "#LOAD THE DATA\n",
    "seqembed_path = \"seq_class.csv\"\n",
    "molembed_path = \"mol_class.csv\"\n",
    "train_path = \"train_class.csv\"\n",
    "test_path = \"test_class.csv\"\n",
    "tensorboard_path = \"~/LDH_IC50_Data\"\n",
    "model_save_path = \"~/LDH_IC50_Data\"\n",
    "\n",
    "\n",
    "\n",
    "seqembed = pd.read_csv(seqembed_path).set_index(\"id\").iloc[:, 1:]\n",
    "molembed = pd.read_csv(molembed_path).set_index(\"id\").iloc[:, 1:]\n",
    "train = pd.read_csv(train_path)\n",
    "test = pd.read_csv(test_path)\n",
    "\n",
    "# Encode target labels\n",
    "from sklearn.preprocessing import LabelEncoder\n",
    "label_encoder = LabelEncoder()\n",
    "train[\"target\"] = label_encoder.fit_transform(train[\"target\"])\n",
    "test[\"target\"] = label_encoder.transform(test[\"target\"])\n",
    "\n",
    "# Prepare datasets\n",
    "train_seq = torch.tensor(np.array(seqembed.loc[train[\"seq\"]]), dtype=torch.float32)\n",
    "train_mol = torch.tensor(np.array(molembed.loc[train[\"mol\"]]), dtype=torch.float32)\n",
    "train_target = torch.tensor(train[\"target\"].values, dtype=torch.long)\n",
    "\n",
    "test_seq = torch.tensor(np.array(seqembed.loc[test[\"seq\"]]), dtype=torch.float32)\n",
    "test_mol = torch.tensor(np.array(molembed.loc[test[\"mol\"]]), dtype=torch.float32)\n",
    "test_target = torch.tensor(test[\"target\"].values, dtype=torch.long)\n",
    "\n",
    "train_dataset = TensorDataset(train_mol, train_seq, train_target)\n",
    "test_dataset = TensorDataset(test_mol, test_seq, test_target)\n",
    "\n",
    "train_loader = DataLoader(train_dataset, batch_size=128, shuffle=True)\n",
    "test_loader = DataLoader(test_dataset, batch_size=128, shuffle=False)\n",
    "\n",
    "# Define the DeepLPI model\n",
    "class DeepLPI(nn.Module):\n",
    "    def __init__(self, molshape, seqshape, num_classes, dropout=0.3):\n",
    "        super(DeepLPI, self).__init__()\n",
    "        self.molshape = molshape\n",
    "        self.seqshape = seqshape\n",
    "\n",
    "        self.molcnn = nn.Sequential(\n",
    "            nn.Conv1d(1, 16, kernel_size=7, stride=2, padding=3),\n",
    "            nn.ReLU(),\n",
    "            nn.MaxPool1d(2)\n",
    "        )\n",
    "        self.seqcnn = nn.Sequential(\n",
    "            nn.Conv1d(1, 16, kernel_size=7, stride=2, padding=3),\n",
    "            nn.ReLU(),\n",
    "            nn.MaxPool1d(2)\n",
    "        )\n",
    "\n",
    "        self.fc = nn.Sequential(\n",
    "            nn.Linear(16 * (molshape // 4 + seqshape // 4), 128),\n",
    "            nn.ReLU(),\n",
    "            nn.Dropout(p=dropout),\n",
    "            nn.Linear(128, num_classes)\n",
    "        )\n",
    "\n",
    "    def forward(self, mol, seq):\n",
    "        mol = self.molcnn(mol.unsqueeze(1))\n",
    "        seq = self.seqcnn(seq.unsqueeze(1))\n",
    "        combined = torch.cat((mol.flatten(1), seq.flatten(1)), dim=1)\n",
    "        return self.fc(combined)\n",
    "\n",
    "# Initialize the model\n",
    "model = DeepLPI(molshape=mol_embed_dim, seqshape=seq_embed_dim, num_classes=3, dropout=0.2)\n",
    "criterion = nn.CrossEntropyLoss()\n",
    "optimizer = torch.optim.Adam(model.parameters(), lr=0.001)\n",
    "\n",
    "# Training loop\n",
    "for epoch in range(100):\n",
    "    model.train()\n",
    "    total_loss = 0\n",
    "    for mol, seq, target in train_loader:\n",
    "        optimizer.zero_grad()\n",
    "        output = model(mol, seq)\n",
    "        loss = criterion(output, target)\n",
    "        loss.backward()\n",
    "        optimizer.step()\n",
    "        total_loss += loss.item()\n",
    "    print(f\"Epoch {epoch + 1}, Loss: {total_loss / len(train_loader)}\")\n",
    "\n",
    "# Evaluate the model\n",
    "model.eval()\n",
    "all_preds = []\n",
    "all_labels = []\n",
    "\n",
    "with torch.no_grad():\n",
    "    for mol, seq, target in test_loader:\n",
    "        output = model(mol, seq)\n",
    "        preds = torch.argmax(output, dim=1)\n",
    "        all_preds.extend(preds.cpu().numpy())\n",
    "        all_labels.extend(target.cpu().numpy())\n",
    "\n",
    "# Validation metrics\n",
    "accuracy = accuracy_score(all_labels, all_preds)\n",
    "precision, recall, f1, _ = precision_recall_fscore_support(all_labels, all_preds, average='weighted')\n",
    "conf_matrix = confusion_matrix(all_labels, all_preds)\n",
    "\n",
    "print(f\"Accuracy: {accuracy:.4f}\")\n",
    "print(f\"Precision: {precision:.4f}\")\n",
    "print(f\"Recall: {recall:.4f}\")\n",
    "print(f\"F1-Score: {f1:.4f}\")\n",
    "print(\"Confusion Matrix:\")\n",
    "print(conf_matrix)\n"
   ]
  },
  {
   "cell_type": "code",
   "execution_count": 18,
   "id": "13269ab5-7ec6-4dbf-8406-475207fc416a",
   "metadata": {},
   "outputs": [
    {
     "data": {
      "image/png": "[encoded data removed]",
      "text/plain": [
       "<Figure size 800x600 with 2 Axes>"
      ]
     },
     "metadata": {},
     "output_type": "display_data"
    },
    {
     "name": "stdout",
     "output_type": "stream",
     "text": [
      "Accuracy: 0.4550\n",
      "Precision: 0.4519\n",
      "Recall: 0.4747\n",
      "F1-Score: 0.4631\n",
      "ROC-AUC: 0.4552\n"
     ]
    }
   ],
   "source": [
    "import numpy as np\n",
    "import seaborn as sns\n",
    "import matplotlib.pyplot as plt\n",
    "from sklearn.metrics import confusion_matrix, accuracy_score, precision_score, recall_score, f1_score, roc_auc_score, precision_recall_fscore_support\n",
    "\n",
    "\n",
    "# Compute confusion matrix\n",
    "conf_matrix = confusion_matrix(all_labels, all_preds)\n",
    "\n",
    "# Plot confusion matrix as heatmap\n",
    "plt.figure(figsize=(8, 6))\n",
    "sns.heatmap(conf_matrix, annot=True, fmt='d', cmap='Blues', xticklabels=['Resistant', 'Sensitive'], yticklabels=['Resistant', 'Sensitive'])\n",
    "plt.xlabel('Predicted Labels')\n",
    "plt.ylabel('True Labels')\n",
    "plt.title('Confusion Matrix Heatmap')\n",
    "plt.show()\n",
    "\n",
    "# Calculate binary classification metrics\n",
    "accuracy = accuracy_score(all_labels, all_preds)\n",
    "precision, recall, f1, _ = precision_recall_fscore_support(all_labels, all_preds, average='binary')\n",
    "roc_auc = roc_auc_score(all_labels, all_preds)\n",
    "\n",
    "# Print metrics\n",
    "print(f\"Accuracy: {accuracy:.4f}\")\n",
    "print(f\"Precision: {precision:.4f}\")\n",
    "print(f\"Recall: {recall:.4f}\")\n",
    "print(f\"F1-Score: {f1:.4f}\")\n",
    "print(f\"ROC-AUC: {roc_auc:.4f}\")"
   ]
  },
  {
   "cell_type": "code",
   "execution_count": null,
   "id": "df700c95-c0c1-42b8-b00b-9390b27c9b36",
   "metadata": {},
   "outputs": [],
   "source": []
  },
  {
   "cell_type": "markdown",
   "id": "2654f93b-fe45-4980-84db-2b6f3a2fb463",
   "metadata": {},
   "source": [
    "BELOW PROGRAM DEMONSTRATES THE HYPERPARAMETER OPTIMIZATION FOR THE ABOVE MENTIONED 1D-CNN + MLP  based model"
   ]
  },
  {
   "cell_type": "code",
   "execution_count": 28,
   "id": "6c6659da-c811-4cbb-a1cb-3cf1dfaab20e",
   "metadata": {
    "scrolled": true
   },
   "outputs": [
    {
     "name": "stdout",
     "output_type": "stream",
     "text": [
      "  2%|▏         | 1/50 [00:24<20:23, 24.97s/trial, best loss: -0.3389036544850498]"
     ]
    },
    {
     "name": "stderr",
     "output_type": "stream",
     "text": [
      "/home/anush/anaconda3/lib/python3.12/site-packages/sklearn/metrics/_classification.py:1531: UndefinedMetricWarning: Precision is ill-defined and being set to 0.0 in labels with no predicted samples. Use `zero_division` parameter to control this behavior.\n",
      "  _warn_prf(average, modifier, f\"{metric.capitalize()} is\", len(result))\n",
      "\n"
     ]
    },
    {
     "name": "stdout",
     "output_type": "stream",
     "text": [
      "  8%|▊         | 4/50 [00:42<06:52,  8.98s/trial, best loss: -0.43820855818195636]"
     ]
    },
    {
     "name": "stderr",
     "output_type": "stream",
     "text": [
      "/home/anush/anaconda3/lib/python3.12/site-packages/sklearn/metrics/_classification.py:1531: UndefinedMetricWarning: Precision is ill-defined and being set to 0.0 in labels with no predicted samples. Use `zero_division` parameter to control this behavior.\n",
      "  _warn_prf(average, modifier, f\"{metric.capitalize()} is\", len(result))\n",
      "\n"
     ]
    },
    {
     "name": "stdout",
     "output_type": "stream",
     "text": [
      " 14%|█▍        | 7/50 [01:24<09:12, 12.84s/trial, best loss: -0.5037711577522004] "
     ]
    },
    {
     "name": "stderr",
     "output_type": "stream",
     "text": [
      "/home/anush/anaconda3/lib/python3.12/site-packages/sklearn/metrics/_classification.py:1531: UndefinedMetricWarning: Precision is ill-defined and being set to 0.0 in labels with no predicted samples. Use `zero_division` parameter to control this behavior.\n",
      "  _warn_prf(average, modifier, f\"{metric.capitalize()} is\", len(result))\n",
      "\n"
     ]
    },
    {
     "name": "stdout",
     "output_type": "stream",
     "text": [
      " 18%|█▊        | 9/50 [01:48<09:04, 13.28s/trial, best loss: -0.5037711577522004]"
     ]
    },
    {
     "name": "stderr",
     "output_type": "stream",
     "text": [
      "/home/anush/anaconda3/lib/python3.12/site-packages/sklearn/metrics/_classification.py:1531: UndefinedMetricWarning: Precision is ill-defined and being set to 0.0 in labels with no predicted samples. Use `zero_division` parameter to control this behavior.\n",
      "  _warn_prf(average, modifier, f\"{metric.capitalize()} is\", len(result))\n",
      "\n"
     ]
    },
    {
     "name": "stdout",
     "output_type": "stream",
     "text": [
      " 24%|██▍       | 12/50 [02:28<08:47, 13.88s/trial, best loss: -0.5148180840689155]"
     ]
    },
    {
     "name": "stderr",
     "output_type": "stream",
     "text": [
      "/home/anush/anaconda3/lib/python3.12/site-packages/sklearn/metrics/_classification.py:1531: UndefinedMetricWarning: Precision is ill-defined and being set to 0.0 in labels with no predicted samples. Use `zero_division` parameter to control this behavior.\n",
      "  _warn_prf(average, modifier, f\"{metric.capitalize()} is\", len(result))\n",
      "\n"
     ]
    },
    {
     "name": "stdout",
     "output_type": "stream",
     "text": [
      " 26%|██▌       | 13/50 [02:30<06:18, 10.22s/trial, best loss: -0.5148180840689155]"
     ]
    },
    {
     "name": "stderr",
     "output_type": "stream",
     "text": [
      "/home/anush/anaconda3/lib/python3.12/site-packages/sklearn/metrics/_classification.py:1531: UndefinedMetricWarning: Precision is ill-defined and being set to 0.0 in labels with no predicted samples. Use `zero_division` parameter to control this behavior.\n",
      "  _warn_prf(average, modifier, f\"{metric.capitalize()} is\", len(result))\n",
      "\n"
     ]
    },
    {
     "name": "stdout",
     "output_type": "stream",
     "text": [
      " 36%|███▌      | 18/50 [03:00<03:05,  5.79s/trial, best loss: -0.5148180840689155]"
     ]
    },
    {
     "name": "stderr",
     "output_type": "stream",
     "text": [
      "/home/anush/anaconda3/lib/python3.12/site-packages/sklearn/metrics/_classification.py:1531: UndefinedMetricWarning: Precision is ill-defined and being set to 0.0 in labels with no predicted samples. Use `zero_division` parameter to control this behavior.\n",
      "  _warn_prf(average, modifier, f\"{metric.capitalize()} is\", len(result))\n",
      "\n"
     ]
    },
    {
     "name": "stdout",
     "output_type": "stream",
     "text": [
      " 40%|████      | 20/50 [03:08<02:26,  4.88s/trial, best loss: -0.5148180840689155]"
     ]
    },
    {
     "name": "stderr",
     "output_type": "stream",
     "text": [
      "/home/anush/anaconda3/lib/python3.12/site-packages/sklearn/metrics/_classification.py:1531: UndefinedMetricWarning: Precision is ill-defined and being set to 0.0 in labels with no predicted samples. Use `zero_division` parameter to control this behavior.\n",
      "  _warn_prf(average, modifier, f\"{metric.capitalize()} is\", len(result))\n",
      "\n"
     ]
    },
    {
     "name": "stdout",
     "output_type": "stream",
     "text": [
      " 48%|████▊     | 24/50 [03:48<04:47, 11.06s/trial, best loss: -0.5148180840689155]"
     ]
    },
    {
     "name": "stderr",
     "output_type": "stream",
     "text": [
      "/home/anush/anaconda3/lib/python3.12/site-packages/sklearn/metrics/_classification.py:1531: UndefinedMetricWarning: Precision is ill-defined and being set to 0.0 in labels with no predicted samples. Use `zero_division` parameter to control this behavior.\n",
      "  _warn_prf(average, modifier, f\"{metric.capitalize()} is\", len(result))\n",
      "\n"
     ]
    },
    {
     "name": "stdout",
     "output_type": "stream",
     "text": [
      " 58%|█████▊    | 29/50 [04:49<04:14, 12.11s/trial, best loss: -0.5148180840689155]"
     ]
    },
    {
     "name": "stderr",
     "output_type": "stream",
     "text": [
      "/home/anush/anaconda3/lib/python3.12/site-packages/sklearn/metrics/_classification.py:1531: UndefinedMetricWarning: Precision is ill-defined and being set to 0.0 in labels with no predicted samples. Use `zero_division` parameter to control this behavior.\n",
      "  _warn_prf(average, modifier, f\"{metric.capitalize()} is\", len(result))\n",
      "\n"
     ]
    },
    {
     "name": "stdout",
     "output_type": "stream",
     "text": [
      " 66%|██████▌   | 33/50 [05:37<03:16, 11.57s/trial, best loss: -0.5148180840689155]"
     ]
    },
    {
     "name": "stderr",
     "output_type": "stream",
     "text": [
      "/home/anush/anaconda3/lib/python3.12/site-packages/sklearn/metrics/_classification.py:1531: UndefinedMetricWarning: Precision is ill-defined and being set to 0.0 in labels with no predicted samples. Use `zero_division` parameter to control this behavior.\n",
      "  _warn_prf(average, modifier, f\"{metric.capitalize()} is\", len(result))\n",
      "\n"
     ]
    },
    {
     "name": "stdout",
     "output_type": "stream",
     "text": [
      " 72%|███████▏  | 36/50 [06:01<02:19,  9.96s/trial, best loss: -0.5148180840689155]"
     ]
    },
    {
     "name": "stderr",
     "output_type": "stream",
     "text": [
      "/home/anush/anaconda3/lib/python3.12/site-packages/sklearn/metrics/_classification.py:1531: UndefinedMetricWarning: Precision is ill-defined and being set to 0.0 in labels with no predicted samples. Use `zero_division` parameter to control this behavior.\n",
      "  _warn_prf(average, modifier, f\"{metric.capitalize()} is\", len(result))\n",
      "\n"
     ]
    },
    {
     "name": "stdout",
     "output_type": "stream",
     "text": [
      " 84%|████████▍ | 42/50 [07:05<01:27, 10.95s/trial, best loss: -0.5148180840689155]"
     ]
    },
    {
     "name": "stderr",
     "output_type": "stream",
     "text": [
      "/home/anush/anaconda3/lib/python3.12/site-packages/sklearn/metrics/_classification.py:1531: UndefinedMetricWarning: Precision is ill-defined and being set to 0.0 in labels with no predicted samples. Use `zero_division` parameter to control this behavior.\n",
      "  _warn_prf(average, modifier, f\"{metric.capitalize()} is\", len(result))\n",
      "\n"
     ]
    },
    {
     "name": "stdout",
     "output_type": "stream",
     "text": [
      "100%|██████████| 50/50 [08:02<00:00,  9.65s/trial, best loss: -0.5148180840689155]\n",
      "Best Hyperparameters: {'batch_size': 2, 'dropout': 0.1809874058725369, 'lr': 0.0025966607938469736, 'num_filters': 3}\n"
     ]
    }
   ],
   "source": [
    "from hyperopt import fmin, tpe, hp, Trials, STATUS_OK\n",
    "import torch\n",
    "from torch import nn\n",
    "from torch.utils.data import DataLoader, TensorDataset\n",
    "from sklearn.metrics import accuracy_score, precision_recall_fscore_support\n",
    "import numpy as np\n",
    "\n",
    "# Define the search space\n",
    "search_space = {\n",
    "    'lr': hp.loguniform('lr', np.log(1e-4), np.log(1e-1)),\n",
    "    'dropout': hp.uniform('dropout', 0.1, 0.5),\n",
    "    'batch_size': hp.choice('batch_size', [32, 64, 128, 256]),\n",
    "    'num_filters': hp.choice('num_filters', [8, 16, 32, 64]),\n",
    "}\n",
    "\n",
    "# Objective function\n",
    "def objective(params):\n",
    "    batch_size = params['batch_size']\n",
    "    lr = params['lr']\n",
    "    dropout = params['dropout']\n",
    "    num_filters = params['num_filters']\n",
    "\n",
    "    # Update DataLoader with new batch size\n",
    "    train_loader = DataLoader(train_dataset, batch_size=batch_size, shuffle=True)\n",
    "    test_loader = DataLoader(test_dataset, batch_size=batch_size, shuffle=False)\n",
    "\n",
    "    # Define the model\n",
    "    class DeepLPI(nn.Module):\n",
    "        def __init__(self, molshape, seqshape, num_classes):\n",
    "            super(DeepLPI, self).__init__()\n",
    "            self.molcnn = nn.Sequential(\n",
    "                nn.Conv1d(1, num_filters, kernel_size=7, stride=2, padding=3),\n",
    "                nn.ReLU(),\n",
    "                nn.MaxPool1d(2)\n",
    "            )\n",
    "            self.seqcnn = nn.Sequential(\n",
    "                nn.Conv1d(1, num_filters, kernel_size=7, stride=2, padding=3),\n",
    "                nn.ReLU(),\n",
    "                nn.MaxPool1d(2)\n",
    "            )\n",
    "            self.fc = nn.Sequential(\n",
    "                nn.Linear(num_filters * (mol_embed_dim // 4 + seq_embed_dim // 4), 128),\n",
    "                nn.ReLU(),\n",
    "                nn.Dropout(p=dropout),\n",
    "                nn.Linear(128, num_classes)\n",
    "            )\n",
    "\n",
    "        def forward(self, mol, seq):\n",
    "            mol = self.molcnn(mol.unsqueeze(1))\n",
    "            seq = self.seqcnn(seq.unsqueeze(1))\n",
    "            combined = torch.cat((mol.flatten(1), seq.flatten(1)), dim=1)\n",
    "            return self.fc(combined)\n",
    "\n",
    "    # Initialize model, loss, and optimizer\n",
    "    model = DeepLPI(molshape=train_mol.shape[1], seqshape=train_seq.shape[1], num_classes=3)\n",
    "    criterion = nn.CrossEntropyLoss()\n",
    "    optimizer = torch.optim.Adam(model.parameters(), lr=lr)\n",
    "\n",
    "    # Train the model\n",
    "    for epoch in range(10):  # Reduce epochs for faster tuning\n",
    "        model.train()\n",
    "        for mol, seq, target in train_loader:\n",
    "            optimizer.zero_grad()\n",
    "            output = model(mol, seq)\n",
    "            loss = criterion(output, target)\n",
    "            loss.backward()\n",
    "            optimizer.step()\n",
    "\n",
    "    # Evaluate the model\n",
    "    model.eval()\n",
    "    all_preds, all_labels = [], []\n",
    "    with torch.no_grad():\n",
    "        for mol, seq, target in test_loader:\n",
    "            output = model(mol, seq)\n",
    "            preds = torch.argmax(output, dim=1)\n",
    "            all_preds.extend(preds.cpu().numpy())\n",
    "            all_labels.extend(target.cpu().numpy())\n",
    "\n",
    "    # Calculate the F1 score\n",
    "    _, _, f1, _ = precision_recall_fscore_support(all_labels, all_preds, average='weighted')\n",
    "    return {'loss': -f1, 'status': STATUS_OK}\n",
    "\n",
    "# Run hyperparameter optimization\n",
    "trials = Trials()\n",
    "best_params = fmin(fn=objective, space=search_space, algo=tpe.suggest, max_evals=50, trials=trials)\n",
    "\n",
    "print(\"Best Hyperparameters:\", best_params)\n"
   ]
  },
  {
   "cell_type": "markdown",
   "id": "65e1280a-5633-4598-b7e2-443b7df336aa",
   "metadata": {},
   "source": [
    "BELOW PROGRAM DEMONSTRATES THE HYPERPARAMETER OPTIMIZATION WITH THE CHANGE IN LOSS TRENDS FOR EACH COMBINATION OF HYERPARAMETERS USED FROM THE PROVIDED SPACE FOR THE ABOVE MENTIONED 1D-CNN + MLP  based model"
   ]
  },
  {
   "cell_type": "code",
   "execution_count": 30,
   "id": "9401b8ac-4959-465b-b11d-2f4d2b730b88",
   "metadata": {},
   "outputs": [
    {
     "name": "stdout",
     "output_type": "stream",
     "text": [
      "Params: {'batch_size': 128, 'dropout': 0.38725074019855954, 'lr': 0.0020458451959050744, 'num_filters': 32}, Loss: -0.3389\n",
      "  2%|▏         | 1/50 [00:05<04:53,  6.00s/trial, best loss: -0.3389036544850498]"
     ]
    },
    {
     "name": "stderr",
     "output_type": "stream",
     "text": [
      "/home/anush/anaconda3/lib/python3.12/site-packages/sklearn/metrics/_classification.py:1531: UndefinedMetricWarning: Precision is ill-defined and being set to 0.0 in labels with no predicted samples. Use `zero_division` parameter to control this behavior.\n",
      "  _warn_prf(average, modifier, f\"{metric.capitalize()} is\", len(result))\n",
      "\n"
     ]
    },
    {
     "name": "stdout",
     "output_type": "stream",
     "text": [
      "Params: {'batch_size': 32, 'dropout': 0.2216995192358675, 'lr': 0.06820321394504959, 'num_filters': 64}, Loss: -0.3278\n",
      "  4%|▍         | 2/50 [00:25<11:06, 13.89s/trial, best loss: -0.3389036544850498]"
     ]
    },
    {
     "name": "stderr",
     "output_type": "stream",
     "text": [
      "/home/anush/anaconda3/lib/python3.12/site-packages/sklearn/metrics/_classification.py:1531: UndefinedMetricWarning: Precision is ill-defined and being set to 0.0 in labels with no predicted samples. Use `zero_division` parameter to control this behavior.\n",
      "  _warn_prf(average, modifier, f\"{metric.capitalize()} is\", len(result))\n",
      "\n"
     ]
    },
    {
     "name": "stdout",
     "output_type": "stream",
     "text": [
      "Params: {'batch_size': 64, 'dropout': 0.4141034017405224, 'lr': 0.004580163825511926, 'num_filters': 32}, Loss: -0.4893\n",
      "Params: {'batch_size': 32, 'dropout': 0.4302450673701175, 'lr': 0.0002418844537504934, 'num_filters': 8}, Loss: -0.3359\n",
      "Params: {'batch_size': 256, 'dropout': 0.3020908326054586, 'lr': 0.0021550530920165954, 'num_filters': 64}, Loss: -0.3388\n",
      "Params: {'batch_size': 64, 'dropout': 0.3215793329563936, 'lr': 0.006119411118835024, 'num_filters': 16}, Loss: -0.4694\n",
      "Params: {'batch_size': 32, 'dropout': 0.45937361592823944, 'lr': 0.006787930876641105, 'num_filters': 8}, Loss: -0.4876\n",
      "Params: {'batch_size': 128, 'dropout': 0.12960551658478214, 'lr': 0.0024888373604465136, 'num_filters': 8}, Loss: -0.4267\n",
      "Params: {'batch_size': 256, 'dropout': 0.41751952400820425, 'lr': 0.0002200232211150878, 'num_filters': 16}, Loss: -0.4080\n",
      "Params: {'batch_size': 128, 'dropout': 0.42670451101126483, 'lr': 0.023602001289805847, 'num_filters': 16}, Loss: -0.3389\n",
      " 20%|██        | 10/50 [01:02<02:33,  3.85s/trial, best loss: -0.48925831202046033]"
     ]
    },
    {
     "name": "stderr",
     "output_type": "stream",
     "text": [
      "/home/anush/anaconda3/lib/python3.12/site-packages/sklearn/metrics/_classification.py:1531: UndefinedMetricWarning: Precision is ill-defined and being set to 0.0 in labels with no predicted samples. Use `zero_division` parameter to control this behavior.\n",
      "  _warn_prf(average, modifier, f\"{metric.capitalize()} is\", len(result))\n",
      "\n"
     ]
    },
    {
     "name": "stdout",
     "output_type": "stream",
     "text": [
      "Params: {'batch_size': 32, 'dropout': 0.4545488684754607, 'lr': 0.007693056715405957, 'num_filters': 64}, Loss: -0.4842\n",
      "Params: {'batch_size': 128, 'dropout': 0.49364542804519906, 'lr': 0.0031118608815415847, 'num_filters': 16}, Loss: -0.3389\n",
      " 24%|██▍       | 12/50 [01:28<04:51,  7.67s/trial, best loss: -0.48925831202046033]"
     ]
    },
    {
     "name": "stderr",
     "output_type": "stream",
     "text": [
      "/home/anush/anaconda3/lib/python3.12/site-packages/sklearn/metrics/_classification.py:1531: UndefinedMetricWarning: Precision is ill-defined and being set to 0.0 in labels with no predicted samples. Use `zero_division` parameter to control this behavior.\n",
      "  _warn_prf(average, modifier, f\"{metric.capitalize()} is\", len(result))\n",
      "\n"
     ]
    },
    {
     "name": "stdout",
     "output_type": "stream",
     "text": [
      "Params: {'batch_size': 32, 'dropout': 0.13554045932323888, 'lr': 0.00016888184713681817, 'num_filters': 16}, Loss: -0.4871\n",
      "Params: {'batch_size': 256, 'dropout': 0.38666194133331844, 'lr': 0.008560630249312825, 'num_filters': 8}, Loss: -0.3389\n",
      " 28%|██▊       | 14/50 [01:34<03:11,  5.32s/trial, best loss: -0.48925831202046033]"
     ]
    },
    {
     "name": "stderr",
     "output_type": "stream",
     "text": [
      "/home/anush/anaconda3/lib/python3.12/site-packages/sklearn/metrics/_classification.py:1531: UndefinedMetricWarning: Precision is ill-defined and being set to 0.0 in labels with no predicted samples. Use `zero_division` parameter to control this behavior.\n",
      "  _warn_prf(average, modifier, f\"{metric.capitalize()} is\", len(result))\n",
      "\n"
     ]
    },
    {
     "name": "stdout",
     "output_type": "stream",
     "text": [
      "Params: {'batch_size': 128, 'dropout': 0.2340404881482595, 'lr': 0.057385915548528434, 'num_filters': 64}, Loss: -0.3389\n",
      " 30%|███       | 15/50 [01:49<04:46,  8.19s/trial, best loss: -0.48925831202046033]"
     ]
    },
    {
     "name": "stderr",
     "output_type": "stream",
     "text": [
      "/home/anush/anaconda3/lib/python3.12/site-packages/sklearn/metrics/_classification.py:1531: UndefinedMetricWarning: Precision is ill-defined and being set to 0.0 in labels with no predicted samples. Use `zero_division` parameter to control this behavior.\n",
      "  _warn_prf(average, modifier, f\"{metric.capitalize()} is\", len(result))\n",
      "\n"
     ]
    },
    {
     "name": "stdout",
     "output_type": "stream",
     "text": [
      "Params: {'batch_size': 256, 'dropout': 0.3834690634249621, 'lr': 0.00787424386862511, 'num_filters': 64}, Loss: -0.3389\n",
      " 32%|███▏      | 16/50 [02:01<05:20,  9.42s/trial, best loss: -0.48925831202046033]"
     ]
    },
    {
     "name": "stderr",
     "output_type": "stream",
     "text": [
      "/home/anush/anaconda3/lib/python3.12/site-packages/sklearn/metrics/_classification.py:1531: UndefinedMetricWarning: Precision is ill-defined and being set to 0.0 in labels with no predicted samples. Use `zero_division` parameter to control this behavior.\n",
      "  _warn_prf(average, modifier, f\"{metric.capitalize()} is\", len(result))\n",
      "\n"
     ]
    },
    {
     "name": "stdout",
     "output_type": "stream",
     "text": [
      "Params: {'batch_size': 64, 'dropout': 0.14475197253756136, 'lr': 0.007654761693777719, 'num_filters': 8}, Loss: -0.4849\n",
      "Params: {'batch_size': 128, 'dropout': 0.20222430492174448, 'lr': 0.04042780512555127, 'num_filters': 64}, Loss: -0.3389\n",
      " 36%|███▌      | 18/50 [02:19<05:10,  9.69s/trial, best loss: -0.48925831202046033]"
     ]
    },
    {
     "name": "stderr",
     "output_type": "stream",
     "text": [
      "/home/anush/anaconda3/lib/python3.12/site-packages/sklearn/metrics/_classification.py:1531: UndefinedMetricWarning: Precision is ill-defined and being set to 0.0 in labels with no predicted samples. Use `zero_division` parameter to control this behavior.\n",
      "  _warn_prf(average, modifier, f\"{metric.capitalize()} is\", len(result))\n",
      "\n"
     ]
    },
    {
     "name": "stdout",
     "output_type": "stream",
     "text": [
      "Params: {'batch_size': 128, 'dropout': 0.1107472726893855, 'lr': 0.0025184370935240233, 'num_filters': 32}, Loss: -0.4190\n",
      "Params: {'batch_size': 64, 'dropout': 0.15617341277855107, 'lr': 0.0006143644207854076, 'num_filters': 32}, Loss: -0.4528\n",
      "Params: {'batch_size': 64, 'dropout': 0.4675680585852679, 'lr': 0.0009537511397786128, 'num_filters': 32}, Loss: -0.4946\n",
      "Params: {'batch_size': 64, 'dropout': 0.4935128306839805, 'lr': 0.00090102199472003, 'num_filters': 32}, Loss: -0.3389\n",
      " 44%|████▍     | 22/50 [02:51<03:59,  8.56s/trial, best loss: -0.49455784865540964]"
     ]
    },
    {
     "name": "stderr",
     "output_type": "stream",
     "text": [
      "/home/anush/anaconda3/lib/python3.12/site-packages/sklearn/metrics/_classification.py:1531: UndefinedMetricWarning: Precision is ill-defined and being set to 0.0 in labels with no predicted samples. Use `zero_division` parameter to control this behavior.\n",
      "  _warn_prf(average, modifier, f\"{metric.capitalize()} is\", len(result))\n",
      "\n"
     ]
    },
    {
     "name": "stdout",
     "output_type": "stream",
     "text": [
      "Params: {'batch_size': 64, 'dropout': 0.3327248862295756, 'lr': 0.0009049964289008739, 'num_filters': 32}, Loss: -0.4506\n",
      "Params: {'batch_size': 64, 'dropout': 0.352749558106515, 'lr': 0.00045531757311600675, 'num_filters': 32}, Loss: -0.5048\n",
      "Params: {'batch_size': 64, 'dropout': 0.3528812169070539, 'lr': 0.00041508500841872366, 'num_filters': 32}, Loss: -0.4258\n",
      "Params: {'batch_size': 64, 'dropout': 0.26677288693737644, 'lr': 0.00010228520736571341, 'num_filters': 32}, Loss: -0.4311\n",
      "Params: {'batch_size': 64, 'dropout': 0.27259100726339286, 'lr': 0.0013065945121569999, 'num_filters': 32}, Loss: -0.3922\n",
      "Params: {'batch_size': 64, 'dropout': 0.46443459067104165, 'lr': 0.00037801890704545295, 'num_filters': 32}, Loss: -0.3389\n",
      " 56%|█████▌    | 28/50 [03:40<03:04,  8.38s/trial, best loss: -0.5048143332249757]"
     ]
    },
    {
     "name": "stderr",
     "output_type": "stream",
     "text": [
      "/home/anush/anaconda3/lib/python3.12/site-packages/sklearn/metrics/_classification.py:1531: UndefinedMetricWarning: Precision is ill-defined and being set to 0.0 in labels with no predicted samples. Use `zero_division` parameter to control this behavior.\n",
      "  _warn_prf(average, modifier, f\"{metric.capitalize()} is\", len(result))\n",
      "\n"
     ]
    },
    {
     "name": "stdout",
     "output_type": "stream",
     "text": [
      "Params: {'batch_size': 64, 'dropout': 0.3466677930474902, 'lr': 0.00013723250191984742, 'num_filters': 32}, Loss: -0.3278\n",
      " 58%|█████▊    | 29/50 [03:48<02:50,  8.11s/trial, best loss: -0.5048143332249757]"
     ]
    },
    {
     "name": "stderr",
     "output_type": "stream",
     "text": [
      "/home/anush/anaconda3/lib/python3.12/site-packages/sklearn/metrics/_classification.py:1531: UndefinedMetricWarning: Precision is ill-defined and being set to 0.0 in labels with no predicted samples. Use `zero_division` parameter to control this behavior.\n",
      "  _warn_prf(average, modifier, f\"{metric.capitalize()} is\", len(result))\n",
      "\n"
     ]
    },
    {
     "name": "stdout",
     "output_type": "stream",
     "text": [
      "Params: {'batch_size': 64, 'dropout': 0.37379521680125916, 'lr': 0.0004312441534919252, 'num_filters': 32}, Loss: -0.4388\n",
      "Params: {'batch_size': 64, 'dropout': 0.49529139345636136, 'lr': 0.0012446689576367422, 'num_filters': 32}, Loss: -0.3523\n",
      "Params: {'batch_size': 64, 'dropout': 0.2730219496725107, 'lr': 0.015119866415035236, 'num_filters': 32}, Loss: -0.4561\n",
      "Params: {'batch_size': 64, 'dropout': 0.19381349170370568, 'lr': 0.0015480759485425933, 'num_filters': 32}, Loss: -0.4688\n",
      "Params: {'batch_size': 256, 'dropout': 0.3997610200954101, 'lr': 0.0006460615327662532, 'num_filters': 32}, Loss: -0.3389\n",
      " 68%|██████▊   | 34/50 [04:23<01:52,  7.04s/trial, best loss: -0.5048143332249757]"
     ]
    },
    {
     "name": "stderr",
     "output_type": "stream",
     "text": [
      "/home/anush/anaconda3/lib/python3.12/site-packages/sklearn/metrics/_classification.py:1531: UndefinedMetricWarning: Precision is ill-defined and being set to 0.0 in labels with no predicted samples. Use `zero_division` parameter to control this behavior.\n",
      "  _warn_prf(average, modifier, f\"{metric.capitalize()} is\", len(result))\n",
      "\n"
     ]
    },
    {
     "name": "stdout",
     "output_type": "stream",
     "text": [
      "Params: {'batch_size': 32, 'dropout': 0.4437668811327083, 'lr': 0.0041444825265360315, 'num_filters': 32}, Loss: -0.3389\n",
      " 70%|███████   | 35/50 [04:31<01:50,  7.37s/trial, best loss: -0.5048143332249757]"
     ]
    },
    {
     "name": "stderr",
     "output_type": "stream",
     "text": [
      "/home/anush/anaconda3/lib/python3.12/site-packages/sklearn/metrics/_classification.py:1531: UndefinedMetricWarning: Precision is ill-defined and being set to 0.0 in labels with no predicted samples. Use `zero_division` parameter to control this behavior.\n",
      "  _warn_prf(average, modifier, f\"{metric.capitalize()} is\", len(result))\n",
      "\n"
     ]
    },
    {
     "name": "stdout",
     "output_type": "stream",
     "text": [
      "Params: {'batch_size': 64, 'dropout': 0.3076430937653935, 'lr': 0.00031453073052870837, 'num_filters': 8}, Loss: -0.4228\n",
      "Params: {'batch_size': 32, 'dropout': 0.47602069559045096, 'lr': 0.0007666424481273993, 'num_filters': 32}, Loss: -0.4322\n",
      "Params: {'batch_size': 64, 'dropout': 0.36607583132076305, 'lr': 0.00024011417634854458, 'num_filters': 16}, Loss: -0.4636\n",
      "Params: {'batch_size': 256, 'dropout': 0.40276471824036947, 'lr': 0.0016960670649587355, 'num_filters': 64}, Loss: -0.4552\n",
      "Params: {'batch_size': 64, 'dropout': 0.2524886026285481, 'lr': 0.0044395696404926225, 'num_filters': 8}, Loss: -0.4662\n",
      "Params: {'batch_size': 32, 'dropout': 0.43023521625893335, 'lr': 0.00012373125963979688, 'num_filters': 32}, Loss: -0.3389\n",
      " 82%|████████▏ | 41/50 [05:08<01:00,  6.69s/trial, best loss: -0.5048143332249757]"
     ]
    },
    {
     "name": "stderr",
     "output_type": "stream",
     "text": [
      "/home/anush/anaconda3/lib/python3.12/site-packages/sklearn/metrics/_classification.py:1531: UndefinedMetricWarning: Precision is ill-defined and being set to 0.0 in labels with no predicted samples. Use `zero_division` parameter to control this behavior.\n",
      "  _warn_prf(average, modifier, f\"{metric.capitalize()} is\", len(result))\n",
      "\n"
     ]
    },
    {
     "name": "stdout",
     "output_type": "stream",
     "text": [
      "Params: {'batch_size': 64, 'dropout': 0.29303764908947183, 'lr': 0.0005178135819602567, 'num_filters': 16}, Loss: -0.4616\n",
      "Params: {'batch_size': 256, 'dropout': 0.4783786906702731, 'lr': 0.0019492149726291434, 'num_filters': 32}, Loss: -0.4157\n",
      "Params: {'batch_size': 128, 'dropout': 0.32399216015865817, 'lr': 0.00018596309686624022, 'num_filters': 8}, Loss: -0.3388\n",
      "Params: {'batch_size': 32, 'dropout': 0.44623489340288647, 'lr': 0.00031661906151619104, 'num_filters': 64}, Loss: -0.3389\n",
      " 90%|█████████ | 45/50 [05:40<00:47,  9.44s/trial, best loss: -0.5048143332249757]"
     ]
    },
    {
     "name": "stderr",
     "output_type": "stream",
     "text": [
      "/home/anush/anaconda3/lib/python3.12/site-packages/sklearn/metrics/_classification.py:1531: UndefinedMetricWarning: Precision is ill-defined and being set to 0.0 in labels with no predicted samples. Use `zero_division` parameter to control this behavior.\n",
      "  _warn_prf(average, modifier, f\"{metric.capitalize()} is\", len(result))\n",
      "\n"
     ]
    },
    {
     "name": "stdout",
     "output_type": "stream",
     "text": [
      "Params: {'batch_size': 64, 'dropout': 0.4184729853782546, 'lr': 0.012140441796914555, 'num_filters': 16}, Loss: -0.4470\n",
      "Params: {'batch_size': 256, 'dropout': 0.3513771418741553, 'lr': 0.0011705299474723079, 'num_filters': 32}, Loss: -0.4532\n",
      "Params: {'batch_size': 128, 'dropout': 0.1818953150704103, 'lr': 0.003019488651927171, 'num_filters': 64}, Loss: -0.4758\n",
      "Params: {'batch_size': 64, 'dropout': 0.22193194979801378, 'lr': 0.005753025958458732, 'num_filters': 16}, Loss: -0.3389\n",
      " 98%|█████████▊| 49/50 [06:11<00:08,  8.15s/trial, best loss: -0.5048143332249757]"
     ]
    },
    {
     "name": "stderr",
     "output_type": "stream",
     "text": [
      "/home/anush/anaconda3/lib/python3.12/site-packages/sklearn/metrics/_classification.py:1531: UndefinedMetricWarning: Precision is ill-defined and being set to 0.0 in labels with no predicted samples. Use `zero_division` parameter to control this behavior.\n",
      "  _warn_prf(average, modifier, f\"{metric.capitalize()} is\", len(result))\n",
      "\n"
     ]
    },
    {
     "name": "stdout",
     "output_type": "stream",
     "text": [
      "Params: {'batch_size': 32, 'dropout': 0.3935246229695719, 'lr': 0.00016820846174565697, 'num_filters': 8}, Loss: -0.3389\n",
      "100%|██████████| 50/50 [06:13<00:00,  7.48s/trial, best loss: -0.5048143332249757]\n",
      "\n",
      "Loss for each trial:\n",
      "Trial 1: Loss = -0.3389, Params = {'batch_size': [2], 'dropout': [0.38725074019855954], 'lr': [0.0020458451959050744], 'num_filters': [2]}\n",
      "Trial 2: Loss = -0.3278, Params = {'batch_size': [0], 'dropout': [0.2216995192358675], 'lr': [0.06820321394504959], 'num_filters': [3]}\n",
      "Trial 3: Loss = -0.4893, Params = {'batch_size': [1], 'dropout': [0.4141034017405224], 'lr': [0.004580163825511926], 'num_filters': [2]}\n",
      "Trial 4: Loss = -0.3359, Params = {'batch_size': [0], 'dropout': [0.4302450673701175], 'lr': [0.0002418844537504934], 'num_filters': [0]}\n",
      "Trial 5: Loss = -0.3388, Params = {'batch_size': [3], 'dropout': [0.3020908326054586], 'lr': [0.0021550530920165954], 'num_filters': [3]}\n",
      "Trial 6: Loss = -0.4694, Params = {'batch_size': [1], 'dropout': [0.3215793329563936], 'lr': [0.006119411118835024], 'num_filters': [1]}\n",
      "Trial 7: Loss = -0.4876, Params = {'batch_size': [0], 'dropout': [0.45937361592823944], 'lr': [0.006787930876641105], 'num_filters': [0]}\n",
      "Trial 8: Loss = -0.4267, Params = {'batch_size': [2], 'dropout': [0.12960551658478214], 'lr': [0.0024888373604465136], 'num_filters': [0]}\n",
      "Trial 9: Loss = -0.4080, Params = {'batch_size': [3], 'dropout': [0.41751952400820425], 'lr': [0.0002200232211150878], 'num_filters': [1]}\n",
      "Trial 10: Loss = -0.3389, Params = {'batch_size': [2], 'dropout': [0.42670451101126483], 'lr': [0.023602001289805847], 'num_filters': [1]}\n",
      "Trial 11: Loss = -0.4842, Params = {'batch_size': [0], 'dropout': [0.4545488684754607], 'lr': [0.007693056715405957], 'num_filters': [3]}\n",
      "Trial 12: Loss = -0.3389, Params = {'batch_size': [2], 'dropout': [0.49364542804519906], 'lr': [0.0031118608815415847], 'num_filters': [1]}\n",
      "Trial 13: Loss = -0.4871, Params = {'batch_size': [0], 'dropout': [0.13554045932323888], 'lr': [0.00016888184713681817], 'num_filters': [1]}\n",
      "Trial 14: Loss = -0.3389, Params = {'batch_size': [3], 'dropout': [0.38666194133331844], 'lr': [0.008560630249312825], 'num_filters': [0]}\n",
      "Trial 15: Loss = -0.3389, Params = {'batch_size': [2], 'dropout': [0.2340404881482595], 'lr': [0.057385915548528434], 'num_filters': [3]}\n",
      "Trial 16: Loss = -0.3389, Params = {'batch_size': [3], 'dropout': [0.3834690634249621], 'lr': [0.00787424386862511], 'num_filters': [3]}\n",
      "Trial 17: Loss = -0.4849, Params = {'batch_size': [1], 'dropout': [0.14475197253756136], 'lr': [0.007654761693777719], 'num_filters': [0]}\n",
      "Trial 18: Loss = -0.3389, Params = {'batch_size': [2], 'dropout': [0.20222430492174448], 'lr': [0.04042780512555127], 'num_filters': [3]}\n",
      "Trial 19: Loss = -0.4190, Params = {'batch_size': [2], 'dropout': [0.1107472726893855], 'lr': [0.0025184370935240233], 'num_filters': [2]}\n",
      "Trial 20: Loss = -0.4528, Params = {'batch_size': [1], 'dropout': [0.15617341277855107], 'lr': [0.0006143644207854076], 'num_filters': [2]}\n",
      "Trial 21: Loss = -0.4946, Params = {'batch_size': [1], 'dropout': [0.4675680585852679], 'lr': [0.0009537511397786128], 'num_filters': [2]}\n",
      "Trial 22: Loss = -0.3389, Params = {'batch_size': [1], 'dropout': [0.4935128306839805], 'lr': [0.00090102199472003], 'num_filters': [2]}\n",
      "Trial 23: Loss = -0.4506, Params = {'batch_size': [1], 'dropout': [0.3327248862295756], 'lr': [0.0009049964289008739], 'num_filters': [2]}\n",
      "Trial 24: Loss = -0.5048, Params = {'batch_size': [1], 'dropout': [0.352749558106515], 'lr': [0.00045531757311600675], 'num_filters': [2]}\n",
      "Trial 25: Loss = -0.4258, Params = {'batch_size': [1], 'dropout': [0.3528812169070539], 'lr': [0.00041508500841872366], 'num_filters': [2]}\n",
      "Trial 26: Loss = -0.4311, Params = {'batch_size': [1], 'dropout': [0.26677288693737644], 'lr': [0.00010228520736571341], 'num_filters': [2]}\n",
      "Trial 27: Loss = -0.3922, Params = {'batch_size': [1], 'dropout': [0.27259100726339286], 'lr': [0.0013065945121569999], 'num_filters': [2]}\n",
      "Trial 28: Loss = -0.3389, Params = {'batch_size': [1], 'dropout': [0.46443459067104165], 'lr': [0.00037801890704545295], 'num_filters': [2]}\n",
      "Trial 29: Loss = -0.3278, Params = {'batch_size': [1], 'dropout': [0.3466677930474902], 'lr': [0.00013723250191984742], 'num_filters': [2]}\n",
      "Trial 30: Loss = -0.4388, Params = {'batch_size': [1], 'dropout': [0.37379521680125916], 'lr': [0.0004312441534919252], 'num_filters': [2]}\n",
      "Trial 31: Loss = -0.3523, Params = {'batch_size': [1], 'dropout': [0.49529139345636136], 'lr': [0.0012446689576367422], 'num_filters': [2]}\n",
      "Trial 32: Loss = -0.4561, Params = {'batch_size': [1], 'dropout': [0.2730219496725107], 'lr': [0.015119866415035236], 'num_filters': [2]}\n",
      "Trial 33: Loss = -0.4688, Params = {'batch_size': [1], 'dropout': [0.19381349170370568], 'lr': [0.0015480759485425933], 'num_filters': [2]}\n",
      "Trial 34: Loss = -0.3389, Params = {'batch_size': [3], 'dropout': [0.3997610200954101], 'lr': [0.0006460615327662532], 'num_filters': [2]}\n",
      "Trial 35: Loss = -0.3389, Params = {'batch_size': [0], 'dropout': [0.4437668811327083], 'lr': [0.0041444825265360315], 'num_filters': [2]}\n",
      "Trial 36: Loss = -0.4228, Params = {'batch_size': [1], 'dropout': [0.3076430937653935], 'lr': [0.00031453073052870837], 'num_filters': [0]}\n",
      "Trial 37: Loss = -0.4322, Params = {'batch_size': [0], 'dropout': [0.47602069559045096], 'lr': [0.0007666424481273993], 'num_filters': [2]}\n",
      "Trial 38: Loss = -0.4636, Params = {'batch_size': [1], 'dropout': [0.36607583132076305], 'lr': [0.00024011417634854458], 'num_filters': [1]}\n",
      "Trial 39: Loss = -0.4552, Params = {'batch_size': [3], 'dropout': [0.40276471824036947], 'lr': [0.0016960670649587355], 'num_filters': [3]}\n",
      "Trial 40: Loss = -0.4662, Params = {'batch_size': [1], 'dropout': [0.2524886026285481], 'lr': [0.0044395696404926225], 'num_filters': [0]}\n",
      "Trial 41: Loss = -0.3389, Params = {'batch_size': [0], 'dropout': [0.43023521625893335], 'lr': [0.00012373125963979688], 'num_filters': [2]}\n",
      "Trial 42: Loss = -0.4616, Params = {'batch_size': [1], 'dropout': [0.29303764908947183], 'lr': [0.0005178135819602567], 'num_filters': [1]}\n",
      "Trial 43: Loss = -0.4157, Params = {'batch_size': [3], 'dropout': [0.4783786906702731], 'lr': [0.0019492149726291434], 'num_filters': [2]}\n",
      "Trial 44: Loss = -0.3388, Params = {'batch_size': [2], 'dropout': [0.32399216015865817], 'lr': [0.00018596309686624022], 'num_filters': [0]}\n",
      "Trial 45: Loss = -0.3389, Params = {'batch_size': [0], 'dropout': [0.44623489340288647], 'lr': [0.00031661906151619104], 'num_filters': [3]}\n",
      "Trial 46: Loss = -0.4470, Params = {'batch_size': [1], 'dropout': [0.4184729853782546], 'lr': [0.012140441796914555], 'num_filters': [1]}\n",
      "Trial 47: Loss = -0.4532, Params = {'batch_size': [3], 'dropout': [0.3513771418741553], 'lr': [0.0011705299474723079], 'num_filters': [2]}\n",
      "Trial 48: Loss = -0.4758, Params = {'batch_size': [2], 'dropout': [0.1818953150704103], 'lr': [0.003019488651927171], 'num_filters': [3]}\n",
      "Trial 49: Loss = -0.3389, Params = {'batch_size': [1], 'dropout': [0.22193194979801378], 'lr': [0.005753025958458732], 'num_filters': [1]}\n",
      "Trial 50: Loss = -0.3389, Params = {'batch_size': [0], 'dropout': [0.3935246229695719], 'lr': [0.00016820846174565697], 'num_filters': [0]}\n",
      "\n",
      "Best Hyperparameters: {'batch_size': 1, 'dropout': 0.352749558106515, 'lr': 0.00045531757311600675, 'num_filters': 2}\n"
     ]
    },
    {
     "name": "stderr",
     "output_type": "stream",
     "text": [
      "/home/anush/anaconda3/lib/python3.12/site-packages/sklearn/metrics/_classification.py:1531: UndefinedMetricWarning: Precision is ill-defined and being set to 0.0 in labels with no predicted samples. Use `zero_division` parameter to control this behavior.\n",
      "  _warn_prf(average, modifier, f\"{metric.capitalize()} is\", len(result))\n",
      "\n"
     ]
    }
   ],
   "source": [
    "from hyperopt import fmin, tpe, hp, Trials, STATUS_OK\n",
    "import numpy as np\n",
    "\n",
    "# Define the search space\n",
    "search_space = {\n",
    "    'lr': hp.loguniform('lr', np.log(1e-4), np.log(1e-1)),\n",
    "    'dropout': hp.uniform('dropout', 0.1, 0.5),\n",
    "    'batch_size': hp.choice('batch_size', [32, 64, 128, 256]),\n",
    "    'num_filters': hp.choice('num_filters', [8, 16, 32, 64]),\n",
    "}\n",
    "\n",
    "# Objective function\n",
    "def objective(params):\n",
    "    batch_size = params['batch_size']\n",
    "    lr = params['lr']\n",
    "    dropout = params['dropout']\n",
    "    num_filters = params['num_filters']\n",
    "\n",
    "    # Update DataLoader with new batch size\n",
    "    train_loader = DataLoader(train_dataset, batch_size=batch_size, shuffle=True)\n",
    "    test_loader = DataLoader(test_dataset, batch_size=batch_size, shuffle=False)\n",
    "\n",
    "    # Define the model\n",
    "    class ResisenseNet(nn.Module):\n",
    "        def __init__(self, molshape, seqshape, num_classes):\n",
    "            super(DeepLPI, self).__init__()\n",
    "            self.molcnn = nn.Sequential(\n",
    "                nn.Conv1d(1, num_filters, kernel_size=7, stride=2, padding=3),\n",
    "                nn.ReLU(),\n",
    "                nn.MaxPool1d(2)\n",
    "            )\n",
    "            self.seqcnn = nn.Sequential(\n",
    "                nn.Conv1d(1, num_filters, kernel_size=7, stride=2, padding=3),\n",
    "                nn.ReLU(),\n",
    "                nn.MaxPool1d(2)\n",
    "            )\n",
    "            self.fc = nn.Sequential(\n",
    "                nn.Linear(num_filters * (mol_embed_dim // 4 + seq_embed_dim // 4), 128),\n",
    "                nn.ReLU(),\n",
    "                nn.Dropout(p=dropout),\n",
    "                nn.Linear(128, num_classes)\n",
    "            )\n",
    "\n",
    "        def forward(self, mol, seq):\n",
    "            mol = self.molcnn(mol.unsqueeze(1))\n",
    "            seq = self.seqcnn(seq.unsqueeze(1))\n",
    "            combined = torch.cat((mol.flatten(1), seq.flatten(1)), dim=1)\n",
    "            return self.fc(combined)\n",
    "\n",
    "    # Initialize model, loss, and optimizer\n",
    "    model = DeepLPI(molshape=train_mol.shape[1], seqshape=train_seq.shape[1], num_classes=3)\n",
    "    criterion = nn.CrossEntropyLoss()\n",
    "    optimizer = torch.optim.Adam(model.parameters(), lr=lr)\n",
    "\n",
    "    # Train the model\n",
    "    for epoch in range(10):  # Reduce epochs for faster tuning\n",
    "        model.train()\n",
    "        for mol, seq, target in train_loader:\n",
    "            optimizer.zero_grad()\n",
    "            output = model(mol, seq)\n",
    "            loss = criterion(output, target)\n",
    "            loss.backward()\n",
    "            optimizer.step()\n",
    "\n",
    "    # Evaluate the model\n",
    "    model.eval()\n",
    "    all_preds, all_labels = [], []\n",
    "    with torch.no_grad():\n",
    "        for mol, seq, target in test_loader:\n",
    "            output = model(mol, seq)\n",
    "            preds = torch.argmax(output, dim=1)\n",
    "            all_preds.extend(preds.cpu().numpy())\n",
    "            all_labels.extend(target.cpu().numpy())\n",
    "\n",
    "    # Calculate the F1 score\n",
    "    _, _, f1, _ = precision_recall_fscore_support(all_labels, all_preds, average='weighted')\n",
    "    loss = -f1  # Loss for hyperopt (negative F1 score)\n",
    "    \n",
    "    # Print hyperparameters and loss\n",
    "    print(f\"Params: {params}, Loss: {loss:.4f}\")\n",
    "    \n",
    "    return {'loss': loss, 'status': STATUS_OK}\n",
    "\n",
    "# Run hyperparameter optimization\n",
    "trials = Trials()\n",
    "best_params = fmin(fn=objective, space=search_space, algo=tpe.suggest, max_evals=50, trials=trials)\n",
    "\n",
    "# Print all losses for each combination\n",
    "print(\"\\nLoss for each trial:\")\n",
    "for i, trial in enumerate(trials.trials):\n",
    "    print(f\"Trial {i + 1}: Loss = {trial['result']['loss']:.4f}, Params = {trial['misc']['vals']}\")\n",
    "    \n",
    "print(\"\\nBest Hyperparameters:\", best_params)\n"
   ]
  },
  {
   "cell_type": "code",
   "execution_count": null,
   "id": "413d75e8-4b91-40da-9399-2679d777e0c6",
   "metadata": {},
   "outputs": [],
   "source": []
  },
  {
   "cell_type": "code",
   "execution_count": null,
   "id": "4bd4ab32-a6ed-463f-a404-2a64543e8e84",
   "metadata": {},
   "outputs": [],
   "source": []
  },
  {
   "cell_type": "code",
   "execution_count": null,
   "id": "9c26f7ad-82fc-4454-8b62-f0b90fe8378b",
   "metadata": {},
   "outputs": [],
   "source": []
  }
 ],
 "metadata": {
  "kernelspec": {
   "display_name": "Python 3 (ipykernel)",
   "language": "python",
   "name": "python3"
  },
  "language_info": {
   "codemirror_mode": {
    "name": "ipython",
    "version": 3
   },
   "file_extension": ".py",
   "mimetype": "text/x-python",
   "name": "python",
   "nbconvert_exporter": "python",
   "pygments_lexer": "ipython3",
   "version": "3.12.7"
  }
 },
 "nbformat": 4,
 "nbformat_minor": 5
}
